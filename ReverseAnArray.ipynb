{
 "cells": [
  {
   "cell_type": "markdown",
   "id": "a63fe98a-6d6a-4d70-8be4-3fb6fbbeb0dc",
   "metadata": {},
   "source": [
    "**REVERSE AN ARRAY**<br>\n",
    "*sample input:*<br>\n",
    "3<br>\n",
    "1 2 3<br>\n",
    "*sample output*:<br>\n",
    "3 2 1 <br>"
   ]
  },
  {
   "cell_type": "markdown",
   "id": "0669c4a4-78c3-44a7-8974-f20d662624d5",
   "metadata": {},
   "source": [
    "where 1st line is the number of input variable in the array and 2nd line is the variables itself"
   ]
  },
  {
   "cell_type": "markdown",
   "id": "521e9e07-79ef-484a-b773-b9554452af96",
   "metadata": {},
   "source": [
    "**reversing an array**"
   ]
  },
  {
   "cell_type": "code",
   "execution_count": 1,
   "id": "be7b5302-1228-4035-a02a-34dd29d34ac0",
   "metadata": {},
   "outputs": [],
   "source": [
    "def Reverse_array(A):\n",
    "    return A[::-1]"
   ]
  },
  {
   "cell_type": "code",
   "execution_count": 2,
   "id": "2b68523e-b901-4161-af43-9c8c61473117",
   "metadata": {},
   "outputs": [
    {
     "data": {
      "text/plain": [
       "[4, 3, 2, 1]"
      ]
     },
     "execution_count": 2,
     "metadata": {},
     "output_type": "execute_result"
    }
   ],
   "source": [
    "A = [1,2,3,4]\n",
    "Reverse_array(A)"
   ]
  },
  {
   "cell_type": "markdown",
   "id": "7a436923-80d3-4f40-ad97-9e92ea9849c5",
   "metadata": {},
   "source": [
    "**result as string**"
   ]
  },
  {
   "cell_type": "code",
   "execution_count": 1,
   "id": "23299827-2825-4eeb-96cb-68fbd7e9a68b",
   "metadata": {},
   "outputs": [
    {
     "name": "stdin",
     "output_type": "stream",
     "text": [
      " 3\n",
      " 1 2 3\n"
     ]
    },
    {
     "name": "stdout",
     "output_type": "stream",
     "text": [
      "3 2 1\n"
     ]
    }
   ],
   "source": [
    "def Reverse_array(A):\n",
    "    return A[::-1]\n",
    "\n",
    "if __name__ == '__main__':\n",
    "    N = int(input().strip())\n",
    "    A = list(map(int,input().strip().split()))\n",
    "    res = Reverse_array(A)\n",
    "    print(\" \".join(map(str,res)))"
   ]
  },
  {
   "cell_type": "code",
   "execution_count": null,
   "id": "b1f57e7d-8b50-4dde-a8ab-289c9a61c7c0",
   "metadata": {},
   "outputs": [],
   "source": []
  }
 ],
 "metadata": {
  "kernelspec": {
   "display_name": "Python 3 (ipykernel)",
   "language": "python",
   "name": "python3"
  },
  "language_info": {
   "codemirror_mode": {
    "name": "ipython",
    "version": 3
   },
   "file_extension": ".py",
   "mimetype": "text/x-python",
   "name": "python",
   "nbconvert_exporter": "python",
   "pygments_lexer": "ipython3",
   "version": "3.11.2"
  }
 },
 "nbformat": 4,
 "nbformat_minor": 5
}
